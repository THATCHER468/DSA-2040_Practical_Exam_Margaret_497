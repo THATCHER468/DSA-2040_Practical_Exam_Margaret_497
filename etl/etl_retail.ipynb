{
 "cells": [
  {
   "cell_type": "markdown",
   "id": "79d779e3",
   "metadata": {},
   "source": [
    "synthetic data generation\n",
    "Since the exam allows synthetic data and specifies a structure similar to the UCI Online Retail dataset, I used the `Faker` library to generate a realistic retail dataset with 1000 rows. Each row simulates a transaction and includes the following fields:\n",
    "\n",
    "InvoiceNo: Random invoice IDs\n",
    "StockCode: Product codes\n",
    "Description: Product names\n",
    "Quantity: 1–50\n",
    "InvoiceDate: Random dates over 2 years\n",
    "UnitPrice: 1–100\n",
    "CustomerID: 100 unique customers\n",
    "Country: 5–10 countries\n",
    "\n",
    "The data is stored in a pandas DataFrame and exported to `synthetic_data.csv`, which is used as input for the ETL pipeline."
   ]
  },
  {
   "cell_type": "code",
   "execution_count": 18,
   "id": "1c62314e",
   "metadata": {},
   "outputs": [
    {
     "name": "stdout",
     "output_type": "stream",
     "text": [
      "Synthetic dataset saved as synthetic_data.csv\n"
     ]
    }
   ],
   "source": [
    "import pandas as pd\n",
    "import random\n",
    "from faker import Faker\n",
    "from datetime import datetime, timedelta\n",
    "\n",
    "fake = Faker()\n",
    "Faker.seed(42)\n",
    "random.seed(42)\n",
    "\n",
    "# Parameters\n",
    "num_rows = 1000\n",
    "num_customers = 100\n",
    "countries = ['UK', 'Germany', 'France', 'Spain', 'Italy', 'Netherlands', 'Belgium', 'Sweden', 'Norway', 'Denmark']\n",
    "\n",
    "# Generate data\n",
    "data = []\n",
    "for _ in range(num_rows):\n",
    "    invoice_no = f\"{random.randint(100000, 999999)}\"\n",
    "    stock_code = f\"P{random.randint(1000, 9999)}\"\n",
    "    description = fake.word().capitalize() + \" \" + fake.word().capitalize()\n",
    "    quantity = random.randint(1, 50)\n",
    "    unit_price = round(random.uniform(1.0, 100.0), 2)\n",
    "    invoice_date = fake.date_between(start_date='-2y', end_date='today')\n",
    "    customer_id = random.randint(10000, 10000 + num_customers)\n",
    "    country = random.choice(countries)\n",
    "\n",
    "    data.append([\n",
    "        invoice_no, stock_code, description, quantity,\n",
    "        invoice_date, unit_price, customer_id, country\n",
    "    ])\n",
    "\n",
    "# Create DataFrame\n",
    "df = pd.DataFrame(data, columns=[\n",
    "    \"InvoiceNo\", \"StockCode\", \"Description\", \"Quantity\",\n",
    "    \"InvoiceDate\", \"UnitPrice\", \"CustomerID\", \"Country\"\n",
    "])\n",
    "\n",
    "# Save to CSV\n",
    "df.to_csv(\"synthetic_data.csv\", index=False)\n",
    "print(\"Synthetic dataset saved as synthetic_data.csv\")\n"
   ]
  },
  {
   "cell_type": "markdown",
   "id": "eecf8bf6",
   "metadata": {},
   "source": [
    "1. Extract\n",
    "Load your synthetic_data.csv into a pandas DataFrame\n",
    "Convert InvoiceDate to datetime\n",
    "Handle missing values (e.g., drop or fill)"
   ]
  },
  {
   "cell_type": "code",
   "execution_count": 19,
   "id": "1f82cc2b",
   "metadata": {},
   "outputs": [],
   "source": [
    "df = pd.read_csv(\"synthetic_data.csv\")\n",
    "df[\"InvoiceDate\"] = pd.to_datetime(df[\"InvoiceDate\"])\n",
    "df.dropna(inplace=True)\n"
   ]
  },
  {
   "cell_type": "markdown",
   "id": "4fe69df1",
   "metadata": {},
   "source": [
    "2. Transform\n",
    "Add TotalSales = Quantity * UnitPrice\n",
    "Filter for sales in the last year (from August 12, 2024 to August 12, 2025)\n",
    "Remove outliers: Quantity < 0 or UnitPrice <= 0\n",
    "Create dimension-like summaries (e.g., group by CustomerID)"
   ]
  },
  {
   "cell_type": "code",
   "execution_count": 20,
   "id": "f47b5e3a",
   "metadata": {},
   "outputs": [],
   "source": [
    "df[\"TotalSales\"] = df[\"Quantity\"] * df[\"UnitPrice\"]\n",
    "df = df[df[\"InvoiceDate\"] >= \"2024-08-12\"]\n",
    "df = df[(df[\"Quantity\"] > 0) & (df[\"UnitPrice\"] > 0)]\n",
    "\n",
    "customer_summary = df.groupby(\"CustomerID\").agg({\n",
    "    \"TotalSales\": \"sum\",\n",
    "    \"Country\": \"first\"\n",
    "}).reset_index()\n"
   ]
  },
  {
   "cell_type": "markdown",
   "id": "1dc221cc",
   "metadata": {},
   "source": [
    "3. Load\n",
    "Use sqlite3 to create retail_dw.db\n",
    "Create tables: SalesFact, CustomerDim, TimeDim\n",
    "Insert transformed data"
   ]
  },
  {
   "cell_type": "code",
   "execution_count": 21,
   "id": "2dabad53",
   "metadata": {},
   "outputs": [
    {
     "data": {
      "text/plain": [
       "99"
      ]
     },
     "execution_count": 21,
     "metadata": {},
     "output_type": "execute_result"
    }
   ],
   "source": [
    "import sqlite3\n",
    "\n",
    "conn = sqlite3.connect(\"retail_dw.db\")\n",
    "df.to_sql(\"SalesFact\", conn, if_exists=\"replace\", index=False)\n",
    "customer_summary.to_sql(\"CustomerDim\", conn, if_exists=\"replace\", index=False)\n",
    "# You can also extract year/month from InvoiceDate for TimeDim\n"
   ]
  },
  {
   "cell_type": "markdown",
   "id": "3cb27d4f",
   "metadata": {},
   "source": [
    "4. Wrap in a Function with Logging\n",
    "Log number of rows at each stage\n",
    "Handle errors gracefully"
   ]
  },
  {
   "cell_type": "code",
   "execution_count": 22,
   "id": "b2730bd0",
   "metadata": {},
   "outputs": [],
   "source": [
    "def run_etl():\n",
    "    try:\n",
    "        print(\"Extracting data...\")\n",
    "        df = pd.read_csv(\"etl/synthetic_data.csv\")\n",
    "        print(f\"Rows extracted: {len(df)}\")\n",
    "\n",
    "        # Transform\n",
    "        df[\"InvoiceDate\"] = pd.to_datetime(df[\"InvoiceDate\"])\n",
    "        df[\"TotalSales\"] = df[\"Quantity\"] * df[\"UnitPrice\"]\n",
    "        df = df[df[\"InvoiceDate\"] >= \"2024-08-12\"]\n",
    "        df = df[(df[\"Quantity\"] > 0) & (df[\"UnitPrice\"] > 0)]\n",
    "        print(f\"Rows after cleaning: {len(df)}\")\n",
    "\n",
    "        # Load\n",
    "        conn = sqlite3.connect(\"retail_dw.db\")\n",
    "        df.to_sql(\"SalesFact\", conn, if_exists=\"replace\", index=False)\n",
    "        print(\"Data loaded into SalesFact table.\")\n",
    "\n",
    "    except Exception as e:\n",
    "        print(f\"ETL failed: {e}\")\n"
   ]
  }
 ],
 "metadata": {
  "kernelspec": {
   "display_name": "Python 3",
   "language": "python",
   "name": "python3"
  },
  "language_info": {
   "codemirror_mode": {
    "name": "ipython",
    "version": 3
   },
   "file_extension": ".py",
   "mimetype": "text/x-python",
   "name": "python",
   "nbconvert_exporter": "python",
   "pygments_lexer": "ipython3",
   "version": "3.11.9"
  }
 },
 "nbformat": 4,
 "nbformat_minor": 5
}
