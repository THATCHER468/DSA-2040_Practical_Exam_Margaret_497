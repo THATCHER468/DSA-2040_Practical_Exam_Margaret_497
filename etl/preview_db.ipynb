{
 "cells": [
  {
   "cell_type": "code",
   "execution_count": 1,
   "id": "6cd59218",
   "metadata": {},
   "outputs": [
    {
     "name": "stdout",
     "output_type": "stream",
     "text": [
      "   CustomerID  TotalSales  Country\n",
      "0       10000     9830.59       UK\n",
      "1       10001     3979.56   Norway\n",
      "2       10002     1240.24  Denmark\n",
      "3       10003    10034.57  Germany\n",
      "4       10004     3215.75    Italy\n",
      "5       10005     4472.44   Sweden\n",
      "6       10006     1864.14    Spain\n",
      "7       10007     6849.71  Germany\n",
      "8       10008     4930.24  Belgium\n",
      "9       10009     5521.23   France\n"
     ]
    }
   ],
   "source": [
    "import sqlite3\n",
    "import pandas as pd\n",
    "\n",
    "# Connect to the database\n",
    "conn = sqlite3.connect(\"retail_dw.db\")\n",
    "\n",
    "\n",
    "#Optional: Preview CustomerDim if created\n",
    "df_customer = pd.read_sql_query(\"SELECT * FROM CustomerDim LIMIT 10\", conn)\n",
    "print(df_customer)\n",
    "\n",
    "conn.close()\n"
   ]
  }
 ],
 "metadata": {
  "kernelspec": {
   "display_name": "Python 3",
   "language": "python",
   "name": "python3"
  },
  "language_info": {
   "codemirror_mode": {
    "name": "ipython",
    "version": 3
   },
   "file_extension": ".py",
   "mimetype": "text/x-python",
   "name": "python",
   "nbconvert_exporter": "python",
   "pygments_lexer": "ipython3",
   "version": "3.11.9"
  }
 },
 "nbformat": 4,
 "nbformat_minor": 5
}
